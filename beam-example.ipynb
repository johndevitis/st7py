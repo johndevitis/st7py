{
 "cells": [
  {
   "cell_type": "markdown",
   "metadata": {},
   "source": [
    "# Example 1 - Load & Unload API Libraries"
   ]
  },
  {
   "cell_type": "markdown",
   "metadata": {},
   "source": [
    "## Initialize API\n",
    "\n",
    "First we'll import some core functionality, then we'll use `core` to load the St7API"
   ]
  },
  {
   "cell_type": "code",
   "execution_count": 1,
   "metadata": {
    "collapsed": false
   },
   "outputs": [
    {
     "name": "stdout",
     "output_type": "stream",
     "text": [
      "St7API initialized\n"
     ]
    }
   ],
   "source": [
    "from st7py import core\n",
    "from st7py.model import Model\n",
    "\n",
    "# initialize API\n",
    "core.start()"
   ]
  },
  {
   "cell_type": "markdown",
   "metadata": {},
   "source": [
    "## The Model Class\n",
    "Create an instance of `Model` and by passing the path and name to the model file as well as the scratch path for the API"
   ]
  },
  {
   "cell_type": "code",
   "execution_count": 2,
   "metadata": {
    "collapsed": false
   },
   "outputs": [
    {
     "name": "stdout",
     "output_type": "stream",
     "text": [
      "Model opened.\n"
     ]
    }
   ],
   "source": [
    "# create instance of Model object\n",
    "model = Model(path = r'C:\\Users\\John\\repos\\st7py\\examples\\models',\n",
    "              name = r'beam1.st7',\n",
    "              scratch = r'C:\\Temp')\n",
    "# open model\n",
    "model.open()"
   ]
  },
  {
   "cell_type": "markdown",
   "metadata": {},
   "source": [
    "The `Model` class keeps has an incrementing counter so we are guarenteed to have a unique uID identifier, even for models of the same name. This will be handy for parallel processing... "
   ]
  },
  {
   "cell_type": "code",
   "execution_count": 3,
   "metadata": {
    "collapsed": false
   },
   "outputs": [
    {
     "name": "stdout",
     "output_type": "stream",
     "text": [
      "Original uID:  1 \tNew uID:  2\n",
      "Original uID:  1 \tNew uID:  3\n",
      "Original uID:  1 \tNew uID:  4\n",
      "Original uID:  1 \tNew uID:  5\n",
      "Original uID:  1 \tNew uID:  6\n",
      "Original uID:  1 \tNew uID:  7\n",
      "Original uID:  1 \tNew uID:  8\n",
      "Original uID:  1 \tNew uID:  9\n",
      "Original uID:  1 \tNew uID:  10\n",
      "Original uID:  1 \tNew uID:  11\n"
     ]
    }
   ],
   "source": [
    "for models in range(10):\n",
    "    md = Model()  # create instance\n",
    "    print('Original uID: ', model.uID, '\\tNew uID: ', md.uID)"
   ]
  },
  {
   "cell_type": "markdown",
   "metadata": {},
   "source": [
    "## Model Methods"
   ]
  },
  {
   "cell_type": "markdown",
   "metadata": {},
   "source": [
    "### Totals:"
   ]
  },
  {
   "cell_type": "code",
   "execution_count": 4,
   "metadata": {
    "collapsed": false
   },
   "outputs": [
    {
     "name": "stdout",
     "output_type": "stream",
     "text": [
      "Entity totals:\n",
      " Nodes: 11\n",
      " Beams: 10\n",
      " Plates: 0\n",
      " Bricks: 0\n"
     ]
    }
   ],
   "source": [
    "model.totals()"
   ]
  },
  {
   "cell_type": "markdown",
   "metadata": {},
   "source": [
    "## Clean up\n",
    "When finished, close the model and unload the API"
   ]
  },
  {
   "cell_type": "code",
   "execution_count": 5,
   "metadata": {
    "collapsed": false
   },
   "outputs": [
    {
     "name": "stdout",
     "output_type": "stream",
     "text": [
      "Model closed.\n",
      "St7API released\n"
     ]
    }
   ],
   "source": [
    "# close model & unload API\n",
    "model.close()\n",
    "core.stop()"
   ]
  }
 ],
 "metadata": {
  "kernelspec": {
   "display_name": "Python 3",
   "language": "python",
   "name": "python3"
  },
  "language_info": {
   "codemirror_mode": {
    "name": "ipython",
    "version": 3
   },
   "file_extension": ".py",
   "mimetype": "text/x-python",
   "name": "python",
   "nbconvert_exporter": "python",
   "pygments_lexer": "ipython3",
   "version": "3.5.2"
  }
 },
 "nbformat": 4,
 "nbformat_minor": 0
}
