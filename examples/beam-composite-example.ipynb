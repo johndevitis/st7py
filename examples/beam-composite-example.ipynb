{
 "cells": [
  {
   "cell_type": "markdown",
   "metadata": {},
   "source": [
    "# Composite Beam Example"
   ]
  },
  {
   "cell_type": "markdown",
   "metadata": {},
   "source": [
    "## Setup\n",
    "\n",
    "Add directories containing the st7py package and the St7API module (shipped with Strand7 and also included in lib/).\n"
   ]
  },
  {
   "cell_type": "code",
   "execution_count": 1,
   "metadata": {
    "collapsed": true
   },
   "outputs": [],
   "source": [
    "import sys\n",
    "sys.path.append(\"../.\")\n",
    "sys.path.append(\"../lib\")\n"
   ]
  },
  {
   "cell_type": "markdown",
   "metadata": {},
   "source": [
    "## Initialize API and interact with the model"
   ]
  },
  {
   "cell_type": "code",
   "execution_count": 2,
   "metadata": {},
   "outputs": [
    {
     "name": "stdout",
     "output_type": "stream",
     "text": [
      "St7API initialized\n",
      "Element totals:\n",
      "\t\tNodes: 1333\n",
      "\t\tBeams: 132\n",
      "\t\tPlates: 1056\n",
      "\t\tBricks: 0\n"
     ]
    }
   ],
   "source": [
    "import st7py as st7\n",
    "\n",
    "st7.start()\n",
    "\n",
    "model = st7.Model(filename='../models/beam_composite.st7', \n",
    "                  scratch='C:\\Temp', \n",
    "                  uid=1)\n",
    "\n",
    "model.open()\n",
    "\n",
    "tots = model.totals(disp=True)"
   ]
  },
  {
   "cell_type": "markdown",
   "metadata": {},
   "source": [
    "## Run NFA Solver\n"
   ]
  },
  {
   "cell_type": "code",
   "execution_count": 3,
   "metadata": {},
   "outputs": [
    {
     "name": "stdout",
     "output_type": "stream",
     "text": [
      "NFA solver completed successfully (uid: 1)\n",
      "Mode 1    Frequency: 4.688264508471357 Hz\n",
      "Mode 2    Frequency: 7.201602906205432 Hz\n",
      "Mode 3    Frequency: 16.67565035865051 Hz\n",
      "Mode 4    Frequency: 21.257994329482404 Hz\n"
     ]
    }
   ],
   "source": [
    "nfa = st7.NFA(uid = 1,\n",
    "             filename = '../models/beam_composite.NFA',\n",
    "             logname = '../models/beam_composite.NFL',\n",
    "             fcase = 1,\n",
    "             nsm = (1,),\n",
    "             nmodes = 4)\n",
    "\n",
    "nfa.run()\n",
    "\n",
    "freqs = nfa.getFrequencies(disp=True)"
   ]
  },
  {
   "cell_type": "markdown",
   "metadata": {},
   "source": [
    "## Close Model and Unload API"
   ]
  },
  {
   "cell_type": "code",
   "execution_count": 4,
   "metadata": {},
   "outputs": [
    {
     "name": "stdout",
     "output_type": "stream",
     "text": [
      "St7API released\n"
     ]
    }
   ],
   "source": [
    "model.close()\n",
    "st7.stop()"
   ]
  }
 ],
 "metadata": {
  "kernelspec": {
   "display_name": "Python 3",
   "language": "python",
   "name": "python3"
  },
  "language_info": {
   "codemirror_mode": {
    "name": "ipython",
    "version": 3
   },
   "file_extension": ".py",
   "mimetype": "text/x-python",
   "name": "python",
   "nbconvert_exporter": "python",
   "pygments_lexer": "ipython3",
   "version": "3.6.3"
  }
 },
 "nbformat": 4,
 "nbformat_minor": 1
}
