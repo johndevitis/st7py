{
 "cells": [
  {
   "cell_type": "markdown",
   "metadata": {},
   "source": [
    "# Lift Truss Example"
   ]
  },
  {
   "cell_type": "markdown",
   "metadata": {},
   "source": [
    "## Setup\n",
    "First, some setup:"
   ]
  },
  {
   "cell_type": "markdown",
   "metadata": {},
   "source": [
    "### Imports:"
   ]
  },
  {
   "cell_type": "code",
   "execution_count": 1,
   "metadata": {
    "collapsed": true
   },
   "outputs": [],
   "source": [
    "from st7py import core\n",
    "from st7py.model import Model"
   ]
  },
  {
   "cell_type": "markdown",
   "metadata": {},
   "source": [
    "### Now lets define our execution function\n",
    "\n",
    "Set up an execution function that:\n",
    "\n",
    "1. initializes the St7API\n",
    "2. creates a model object pointing to the st7 model of interest\n",
    "3. get the total number of each element (node, beam, etc.) present in the model\n",
    "4. get the [x,y,z] coordinates for all nodes in model\n",
    "\n",
    "*Note - its not necessary to wrap interfacing with the API in a function, this just makes it convenient to track execution time which may be helpful for debugging/inspeciton later*"
   ]
  },
  {
   "cell_type": "code",
   "execution_count": 2,
   "metadata": {
    "collapsed": true
   },
   "outputs": [],
   "source": [
    "def execute():\n",
    "    try:\n",
    "        # initialize api\n",
    "        core.start()\n",
    "        # create model object using path, name, and scratch keyword arguments\n",
    "        model = Model(path = r'C:\\Users\\John\\repos\\brp\\0705151\\Models\\Apriori',\n",
    "                      name = r'LiftSpan_apriori.st7',\n",
    "                      scratch = r'C:\\Temp')\n",
    "        # open model\n",
    "        model.open()\n",
    "\n",
    "        # get dictionary of totals for all elements\n",
    "        #  set disp=True to print totals\n",
    "        tots = model.totals(disp=True)\n",
    "\n",
    "        # get all nodal coordinates\n",
    "        # note - lists are zero indexed, so coords[0] corresponds to nodeid=1\n",
    "        coords = model.getNodes(disp=False)\n",
    "\n",
    "        return tots, coords\n",
    "\n",
    "    finally:\n",
    "        # clean up (the try/finally isn't entirely necessary...)\n",
    "        model.close()\n",
    "        core.stop()"
   ]
  },
  {
   "cell_type": "markdown",
   "metadata": {},
   "source": [
    "## Run it and time it"
   ]
  },
  {
   "cell_type": "code",
   "execution_count": 3,
   "metadata": {
    "collapsed": false
   },
   "outputs": [
    {
     "name": "stdout",
     "output_type": "stream",
     "text": [
      "St7API initialized\n",
      "Model opened.\n",
      "\tEntity totals:\n",
      "\t\tPlates: 16102\n",
      "\t\tNodes: 20208\n",
      "\t\tBeams: 17133\n",
      "\t\tBricks: 0\n",
      "Model closed.\n",
      "St7API released\n",
      "1.64529729862571\n"
     ]
    }
   ],
   "source": [
    "from timeit import Timer\n",
    "t = Timer(lambda: execute())\n",
    "print(t.timeit(number=1))"
   ]
  },
  {
   "cell_type": "markdown",
   "metadata": {
    "collapsed": true
   },
   "source": [
    "### Plot Coords"
   ]
  },
  {
   "cell_type": "code",
   "execution_count": null,
   "metadata": {
    "collapsed": true
   },
   "outputs": [],
   "source": []
  },
  {
   "cell_type": "code",
   "execution_count": null,
   "metadata": {
    "collapsed": true
   },
   "outputs": [],
   "source": []
  }
 ],
 "metadata": {
  "kernelspec": {
   "display_name": "Python 3",
   "language": "python",
   "name": "python3"
  },
  "language_info": {
   "codemirror_mode": {
    "name": "ipython",
    "version": 3
   },
   "file_extension": ".py",
   "mimetype": "text/x-python",
   "name": "python",
   "nbconvert_exporter": "python",
   "pygments_lexer": "ipython3",
   "version": "3.5.2"
  }
 },
 "nbformat": 4,
 "nbformat_minor": 0
}
